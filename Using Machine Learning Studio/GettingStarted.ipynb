{
  "cells": [
    {
      "cell_type": "markdown",
      "source": [
        "# Get Started with Notebooks in Azure Machine Learning\n",
        "\n",
        "Azure Machine Learning is a cloud-based service for creating and managing machine learning solutions. It's designed to help data scientists and machine learning engineers leverage their existing data processing and model development skills and frameworks, and scale their workloads to the cloud.\n",
        "\n",
        "A lot of data science and machine learning work is accomplished in notebooks like this one. Notebooks consist of *cells*, some of which (like the one containing this text) are used for notes, graphics, and other content  usually written using *markdown*; while others (like the cell below this one) contain code that you can run interactively within the notebook.\n",
        "\n",
        "## The Azure Machine Learning Python SDK\n",
        "\n",
        "You can run pretty much any Python code in a notebook, provided the required Python packages are installed in the environment where you're running it. In this case, you're running the notebook in a *Conda* environment on an Azure Machine Learning compute instance. This environment is installed in the compute instance by default, and contains common Python packages that data scientists typically work with. It also includes the Azure Machine Learning Python SDK, which is a Python package that enables you to write code that uses resources in your Azure Machine Learning workspace.\n",
        "\n",
        "Run the cell below to import the **azureml-core** package and checking the version of the SDK that is installed."
      ],
      "metadata": {
        "nteract": {
          "transient": {
            "deleting": false
          }
        }
      }
    },
    {
      "cell_type": "code",
      "source": [
        "import azureml.core\n",
        "print(\"Ready to use Azure ML\", azureml.core.VERSION)"
      ],
      "outputs": [
        {
          "output_type": "stream",
          "name": "stdout",
          "text": "Ready to use Azure ML 1.47.0\n"
        }
      ],
      "execution_count": 1,
      "metadata": {
        "jupyter": {
          "source_hidden": false,
          "outputs_hidden": false
        },
        "nteract": {
          "transient": {
            "deleting": false
          }
        },
        "gather": {
          "logged": 1669115120835
        }
      }
    },
    {
      "cell_type": "code",
      "source": [
        "!pip install azureml-core --upgrade"
      ],
      "outputs": [
        {
          "output_type": "stream",
          "name": "stdout",
          "text": "Collecting azureml-core\n  Downloading azureml_core-1.47.0-py3-none-any.whl (3.1 MB)\n\u001b[K     |████████████████████████████████| 3.1 MB 4.8 MB/s eta 0:00:01\n\u001b[?25hRequirement already satisfied, skipping upgrade: adal<=1.2.7,>=1.2.0 in /anaconda/envs/azureml_py38/lib/python3.8/site-packages (from azureml-core) (1.2.7)\nRequirement already satisfied, skipping upgrade: cryptography!=1.9,!=2.0.*,!=2.1.*,!=2.2.*,<41 in /anaconda/envs/azureml_py38/lib/python3.8/site-packages (from azureml-core) (37.0.4)\nRequirement already satisfied, skipping upgrade: contextlib2<22.0.0 in /anaconda/envs/azureml_py38/lib/python3.8/site-packages (from azureml-core) (21.6.0)\nRequirement already satisfied, skipping upgrade: docker<7.0.0 in /anaconda/envs/azureml_py38/lib/python3.8/site-packages (from azureml-core) (5.0.3)\nRequirement already satisfied, skipping upgrade: humanfriendly<11.0,>=4.7 in /anaconda/envs/azureml_py38/lib/python3.8/site-packages (from azureml-core) (10.0)\nRequirement already satisfied, skipping upgrade: azure-core<2.0.0 in /anaconda/envs/azureml_py38/lib/python3.8/site-packages (from azureml-core) (1.24.2)\nRequirement already satisfied, skipping upgrade: argcomplete<3 in /anaconda/envs/azureml_py38/lib/python3.8/site-packages (from azureml-core) (2.0.0)\nRequirement already satisfied, skipping upgrade: msrest<=0.7.1,>=0.5.1 in /anaconda/envs/azureml_py38/lib/python3.8/site-packages (from azureml-core) (0.7.1)\nRequirement already satisfied, skipping upgrade: azure-mgmt-resource<22.0.0,>=15.0.0 in /anaconda/envs/azureml_py38/lib/python3.8/site-packages (from azureml-core) (21.1.0)\nRequirement already satisfied, skipping upgrade: azure-mgmt-authorization<3,>=0.40.0 in /anaconda/envs/azureml_py38/lib/python3.8/site-packages (from azureml-core) (2.0.0)\nRequirement already satisfied, skipping upgrade: backports.tempfile in /anaconda/envs/azureml_py38/lib/python3.8/site-packages (from azureml-core) (1.0)\nRequirement already satisfied, skipping upgrade: msal<2.0.0,>=1.15.0 in /anaconda/envs/azureml_py38/lib/python3.8/site-packages (from azureml-core) (1.18.0)\nRequirement already satisfied, skipping upgrade: ndg-httpsclient<=0.5.1 in /anaconda/envs/azureml_py38/lib/python3.8/site-packages (from azureml-core) (0.5.1)\nRequirement already satisfied, skipping upgrade: requests[socks]<3.0.0,>=2.19.1 in /anaconda/envs/azureml_py38/lib/python3.8/site-packages (from azureml-core) (2.28.1)\nRequirement already satisfied, skipping upgrade: paramiko<3.0.0,>=2.0.8 in /anaconda/envs/azureml_py38/lib/python3.8/site-packages (from azureml-core) (2.11.0)\nRequirement already satisfied, skipping upgrade: pytz in /anaconda/envs/azureml_py38/lib/python3.8/site-packages (from azureml-core) (2019.3)\nRequirement already satisfied, skipping upgrade: jsonpickle<3.0.0 in /anaconda/envs/azureml_py38/lib/python3.8/site-packages (from azureml-core) (2.2.0)\nRequirement already satisfied, skipping upgrade: pkginfo in /anaconda/envs/azureml_py38/lib/python3.8/site-packages (from azureml-core) (1.8.3)\nRequirement already satisfied, skipping upgrade: azure-common<2.0.0,>=1.1.12 in /anaconda/envs/azureml_py38/lib/python3.8/site-packages (from azureml-core) (1.1.28)\nRequirement already satisfied, skipping upgrade: msal-extensions<=1.0.0,>=0.3.0 in /anaconda/envs/azureml_py38/lib/python3.8/site-packages (from azureml-core) (0.3.1)\nRequirement already satisfied, skipping upgrade: SecretStorage<4.0.0 in /anaconda/envs/azureml_py38/lib/python3.8/site-packages (from azureml-core) (3.3.2)\nCollecting knack~=0.10.0\n  Downloading knack-0.10.0-py3-none-any.whl (61 kB)\n\u001b[K     |████████████████████████████████| 61 kB 9.4 MB/s  eta 0:00:01\n\u001b[?25hRequirement already satisfied, skipping upgrade: jmespath<2.0.0 in /anaconda/envs/azureml_py38/lib/python3.8/site-packages (from azureml-core) (0.10.0)\nRequirement already satisfied, skipping upgrade: msrestazure<=0.6.4,>=0.4.33 in /anaconda/envs/azureml_py38/lib/python3.8/site-packages (from azureml-core) (0.6.4)\nRequirement already satisfied, skipping upgrade: pathspec<1.0.0 in /anaconda/envs/azureml_py38/lib/python3.8/site-packages (from azureml-core) (0.9.0)\nRequirement already satisfied, skipping upgrade: azure-mgmt-keyvault<11.0.0,>=0.40.0 in /anaconda/envs/azureml_py38/lib/python3.8/site-packages (from azureml-core) (10.0.0)\nRequirement already satisfied, skipping upgrade: PyJWT<3.0.0 in /anaconda/envs/azureml_py38/lib/python3.8/site-packages (from azureml-core) (2.4.0)\nRequirement already satisfied, skipping upgrade: urllib3<2.0.0,>=1.23 in /anaconda/envs/azureml_py38/lib/python3.8/site-packages (from azureml-core) (1.26.9)\nRequirement already satisfied, skipping upgrade: azure-mgmt-containerregistry<11,>=8.2.0 in /anaconda/envs/azureml_py38/lib/python3.8/site-packages (from azureml-core) (10.0.0)\nRequirement already satisfied, skipping upgrade: azure-mgmt-storage<21.0.0,>=16.0.0 in /anaconda/envs/azureml_py38/lib/python3.8/site-packages (from azureml-core) (20.0.0)\nRequirement already satisfied, skipping upgrade: packaging<22.0,>=20.0 in /anaconda/envs/azureml_py38/lib/python3.8/site-packages (from azureml-core) (21.3)\nRequirement already satisfied, skipping upgrade: python-dateutil<3.0.0,>=2.7.3 in /anaconda/envs/azureml_py38/lib/python3.8/site-packages (from azureml-core) (2.8.2)\nRequirement already satisfied, skipping upgrade: azure-graphrbac<1.0.0,>=0.40.0 in /anaconda/envs/azureml_py38/lib/python3.8/site-packages (from azureml-core) (0.61.1)\nRequirement already satisfied, skipping upgrade: pyopenssl<23.0.0 in /anaconda/envs/azureml_py38/lib/python3.8/site-packages (from azureml-core) (22.0.0)\nRequirement already satisfied, skipping upgrade: cffi>=1.12 in /anaconda/envs/azureml_py38/lib/python3.8/site-packages (from cryptography!=1.9,!=2.0.*,!=2.1.*,!=2.2.*,<41->azureml-core) (1.15.1)\nRequirement already satisfied, skipping upgrade: websocket-client>=0.32.0 in /anaconda/envs/azureml_py38/lib/python3.8/site-packages (from docker<7.0.0->azureml-core) (1.3.3)\nRequirement already satisfied, skipping upgrade: typing-extensions>=4.0.1 in /anaconda/envs/azureml_py38/lib/python3.8/site-packages (from azure-core<2.0.0->azureml-core) (4.3.0)\nRequirement already satisfied, skipping upgrade: six>=1.11.0 in /anaconda/envs/azureml_py38/lib/python3.8/site-packages (from azure-core<2.0.0->azureml-core) (1.16.0)\nRequirement already satisfied, skipping upgrade: isodate>=0.6.0 in /anaconda/envs/azureml_py38/lib/python3.8/site-packages (from msrest<=0.7.1,>=0.5.1->azureml-core) (0.6.1)\nRequirement already satisfied, skipping upgrade: certifi>=2017.4.17 in /anaconda/envs/azureml_py38/lib/python3.8/site-packages (from msrest<=0.7.1,>=0.5.1->azureml-core) (2022.6.15)\nRequirement already satisfied, skipping upgrade: requests-oauthlib>=0.5.0 in /anaconda/envs/azureml_py38/lib/python3.8/site-packages (from msrest<=0.7.1,>=0.5.1->azureml-core) (1.3.1)\nRequirement already satisfied, skipping upgrade: azure-mgmt-core<2.0.0,>=1.3.0 in /anaconda/envs/azureml_py38/lib/python3.8/site-packages (from azure-mgmt-resource<22.0.0,>=15.0.0->azureml-core) (1.3.0)\nRequirement already satisfied, skipping upgrade: backports.weakref in /anaconda/envs/azureml_py38/lib/python3.8/site-packages (from backports.tempfile->azureml-core) (1.0.post1)\nRequirement already satisfied, skipping upgrade: pyasn1>=0.1.1 in /anaconda/envs/azureml_py38/lib/python3.8/site-packages (from ndg-httpsclient<=0.5.1->azureml-core) (0.4.8)\nRequirement already satisfied, skipping upgrade: charset-normalizer<3,>=2 in /anaconda/envs/azureml_py38/lib/python3.8/site-packages (from requests[socks]<3.0.0,>=2.19.1->azureml-core) (2.1.0)\nRequirement already satisfied, skipping upgrade: idna<4,>=2.5 in /anaconda/envs/azureml_py38/lib/python3.8/site-packages (from requests[socks]<3.0.0,>=2.19.1->azureml-core) (3.3)\nRequirement already satisfied, skipping upgrade: PySocks!=1.5.7,>=1.5.6; extra == \"socks\" in /anaconda/envs/azureml_py38/lib/python3.8/site-packages (from requests[socks]<3.0.0,>=2.19.1->azureml-core) (1.7.1)\nRequirement already satisfied, skipping upgrade: pynacl>=1.0.1 in /anaconda/envs/azureml_py38/lib/python3.8/site-packages (from paramiko<3.0.0,>=2.0.8->azureml-core) (1.5.0)\nRequirement already satisfied, skipping upgrade: bcrypt>=3.1.3 in /anaconda/envs/azureml_py38/lib/python3.8/site-packages (from paramiko<3.0.0,>=2.0.8->azureml-core) (3.2.2)\nRequirement already satisfied, skipping upgrade: portalocker<3,>=1.0; python_version >= \"3.5\" and platform_system != \"Windows\" in /anaconda/envs/azureml_py38/lib/python3.8/site-packages (from msal-extensions<=1.0.0,>=0.3.0->azureml-core) (2.5.1)\nRequirement already satisfied, skipping upgrade: jeepney>=0.6 in /anaconda/envs/azureml_py38/lib/python3.8/site-packages (from SecretStorage<4.0.0->azureml-core) (0.8.0)\nRequirement already satisfied, skipping upgrade: pygments in /anaconda/envs/azureml_py38/lib/python3.8/site-packages (from knack~=0.10.0->azureml-core) (2.12.0)\nRequirement already satisfied, skipping upgrade: tabulate in /anaconda/envs/azureml_py38/lib/python3.8/site-packages (from knack~=0.10.0->azureml-core) (0.8.10)\nRequirement already satisfied, skipping upgrade: pyyaml in /anaconda/envs/azureml_py38/lib/python3.8/site-packages (from knack~=0.10.0->azureml-core) (6.0)\nRequirement already satisfied, skipping upgrade: pyparsing!=3.0.5,>=2.0.2 in /anaconda/envs/azureml_py38/lib/python3.8/site-packages (from packaging<22.0,>=20.0->azureml-core) (3.0.9)\nRequirement already satisfied, skipping upgrade: pycparser in /anaconda/envs/azureml_py38/lib/python3.8/site-packages (from cffi>=1.12->cryptography!=1.9,!=2.0.*,!=2.1.*,!=2.2.*,<41->azureml-core) (2.21)\nRequirement already satisfied, skipping upgrade: oauthlib>=3.0.0 in /anaconda/envs/azureml_py38/lib/python3.8/site-packages (from requests-oauthlib>=0.5.0->msrest<=0.7.1,>=0.5.1->azureml-core) (3.2.0)\n\u001b[31mERROR: azureml-widgets 1.44.0 has requirement azureml-core~=1.44.0, but you'll have azureml-core 1.47.0 which is incompatible.\u001b[0m\n\u001b[31mERROR: azureml-train-core 1.44.0 has requirement azureml-core~=1.44.0, but you'll have azureml-core 1.47.0 which is incompatible.\u001b[0m\n\u001b[31mERROR: azureml-train-automl-runtime 1.44.0 has requirement azureml-core~=1.44.0, but you'll have azureml-core 1.47.0 which is incompatible.\u001b[0m\n\u001b[31mERROR: azureml-train-automl-client 1.44.0 has requirement azureml-core~=1.44.0, but you'll have azureml-core 1.47.0 which is incompatible.\u001b[0m\n\u001b[31mERROR: azureml-tensorboard 1.44.0 has requirement azureml-core~=1.44.0, but you'll have azureml-core 1.47.0 which is incompatible.\u001b[0m\n\u001b[31mERROR: azureml-telemetry 1.44.0 has requirement azureml-core~=1.44.0, but you'll have azureml-core 1.47.0 which is incompatible.\u001b[0m\n\u001b[31mERROR: azureml-sdk 1.44.0 has requirement azureml-core~=1.44.0, but you'll have azureml-core 1.47.0 which is incompatible.\u001b[0m\n\u001b[31mERROR: azureml-responsibleai 1.44.0 has requirement azureml-core~=1.44.0, but you'll have azureml-core 1.47.0 which is incompatible.\u001b[0m\n\u001b[31mERROR: azureml-pipeline-core 1.44.0 has requirement azureml-core~=1.44.0, but you'll have azureml-core 1.47.0 which is incompatible.\u001b[0m\n\u001b[31mERROR: azureml-opendatasets 1.44.0 has requirement azureml-core~=1.44.0, but you'll have azureml-core 1.47.0 which is incompatible.\u001b[0m\n\u001b[31mERROR: azureml-interpret 1.44.0 has requirement azureml-core~=1.44.0, but you'll have azureml-core 1.47.0 which is incompatible.\u001b[0m\n\u001b[31mERROR: azureml-defaults 1.44.0 has requirement azureml-core~=1.44.0, but you'll have azureml-core 1.47.0 which is incompatible.\u001b[0m\n\u001b[31mERROR: azureml-datadrift 1.44.0 has requirement azureml-core~=1.44.0, but you'll have azureml-core 1.47.0 which is incompatible.\u001b[0m\n\u001b[31mERROR: azureml-contrib-server 1.44.0 has requirement azureml-core~=1.44.0, but you'll have azureml-core 1.47.0 which is incompatible.\u001b[0m\n\u001b[31mERROR: azureml-contrib-reinforcementlearning 1.44.0 has requirement azureml-core~=1.44.0, but you'll have azureml-core 1.47.0 which is incompatible.\u001b[0m\n\u001b[31mERROR: azureml-contrib-pipeline-steps 1.44.0 has requirement azureml-core~=1.44.0, but you'll have azureml-core 1.47.0 which is incompatible.\u001b[0m\n\u001b[31mERROR: azureml-contrib-notebook 1.44.0 has requirement azureml-core~=1.44.0, but you'll have azureml-core 1.47.0 which is incompatible.\u001b[0m\n\u001b[31mERROR: azureml-contrib-notebook 1.44.0 has requirement nbconvert<6, but you'll have nbconvert 6.5.3 which is incompatible.\u001b[0m\n\u001b[31mERROR: azureml-contrib-fairness 1.44.0 has requirement azureml-core~=1.44.0, but you'll have azureml-core 1.47.0 which is incompatible.\u001b[0m\n\u001b[31mERROR: azureml-contrib-dataset 1.44.0 has requirement azureml-core~=1.44.0, but you'll have azureml-core 1.47.0 which is incompatible.\u001b[0m\n\u001b[31mERROR: azureml-cli-common 1.44.0 has requirement azureml-core~=1.44.0, but you'll have azureml-core 1.47.0 which is incompatible.\u001b[0m\n\u001b[31mERROR: azureml-automl-dnn-nlp 1.44.0 has requirement azureml-core~=1.44.0, but you'll have azureml-core 1.47.0 which is incompatible.\u001b[0m\n\u001b[31mERROR: azureml-accel-models 1.44.0 has requirement azureml-core~=1.44.0, but you'll have azureml-core 1.47.0 which is incompatible.\u001b[0m\n\u001b[31mERROR: azure-cli-core 2.39.0 has requirement argcomplete~=1.8, but you'll have argcomplete 2.0.0 which is incompatible.\u001b[0m\n\u001b[31mERROR: azure-cli-core 2.39.0 has requirement knack~=0.9.0, but you'll have knack 0.10.0 which is incompatible.\u001b[0m\n\u001b[31mERROR: azure-cli-core 2.39.0 has requirement msal==1.18.0b1, but you'll have msal 1.18.0 which is incompatible.\u001b[0m\n\u001b[31mERROR: azure-cli-core 2.39.0 has requirement msal-extensions~=1.0.0, but you'll have msal-extensions 0.3.1 which is incompatible.\u001b[0m\nInstalling collected packages: knack, azureml-core\n  Attempting uninstall: knack\n    Found existing installation: knack 0.9.0\n    Uninstalling knack-0.9.0:\n      Successfully uninstalled knack-0.9.0\n  Attempting uninstall: azureml-core\n    Found existing installation: azureml-core 1.44.0\n    Uninstalling azureml-core-1.44.0:\n      Successfully uninstalled azureml-core-1.44.0\nSuccessfully installed azureml-core-1.47.0 knack-0.10.0\n"
        }
      ],
      "execution_count": 3,
      "metadata": {
        "jupyter": {
          "source_hidden": false,
          "outputs_hidden": false
        },
        "nteract": {
          "transient": {
            "deleting": false
          }
        }
      }
    },
    {
      "cell_type": "markdown",
      "source": [
        "## Connect to your workspace\n",
        "\n",
        "All experiments and associated resources are managed within your Azure Machine Learning workspace. You can connect to an existing workspace, or create a new one using the Azure Machine Learning SDK.\n",
        "\n",
        "In most cases, you should store workspace connection information in a JSON configuration file. This makes it easier to connect without needing to remember details like your Azure subscription ID. You can download the JSON configuration file from the blade for your workspace in the Azure portal or from the workspace details pane in Azure Machine Learning studio, but if you're using a compute instance within your workspace, the configuration file has already been downloaded to the root folder.\n",
        "\n",
        "The code below uses the configuration file to connect to your workspace.\n",
        "\n",
        "> **Note**: The first time you connect to your workspace in a notebook session, you may be prompted to sign into Azure by clicking the `https://microsoft.com/devicelogin` link,  entering an automatically generated code, and signing into Azure. After you have successfully signed in, you can close the browser tab that was opened and return to this notebook."
      ],
      "metadata": {
        "nteract": {
          "transient": {
            "deleting": false
          }
        }
      }
    },
    {
      "cell_type": "code",
      "source": [
        "from azureml.core import Workspace\n",
        "\n",
        "ws = Workspace.from_config()\n",
        "print(ws.name, \"loaded\")"
      ],
      "outputs": [],
      "execution_count": null,
      "metadata": {
        "jupyter": {
          "source_hidden": false,
          "outputs_hidden": false
        },
        "nteract": {
          "transient": {
            "deleting": false
          }
        }
      }
    },
    {
      "cell_type": "markdown",
      "source": [
        "## View Azure Machine Learning resources in the workspace\n",
        "\n",
        "Now that you have a connection to your workspace, you can work with the resources. For example, you can use the following code to enumerate the compute resources in your workspace."
      ],
      "metadata": {
        "nteract": {
          "transient": {
            "deleting": false
          }
        }
      }
    },
    {
      "cell_type": "code",
      "source": [
        "print(\"Compute Resources:\")\n",
        "for compute_name in ws.compute_targets:\n",
        "    compute = ws.compute_targets[compute_name]\n",
        "    print(\"\\t\", compute.name, ':', compute.type)"
      ],
      "outputs": [],
      "execution_count": null,
      "metadata": {
        "jupyter": {
          "source_hidden": false,
          "outputs_hidden": false
        },
        "nteract": {
          "transient": {
            "deleting": false
          }
        }
      }
    },
    {
      "cell_type": "markdown",
      "source": [
        "## Loading data \n",
        "Loading data into a pandas dataframe works just like in any other notebook. We load the pandas package, and make sure we have the right path. In this case, we already have a data set stored in the data folder."
      ],
      "metadata": {
        "nteract": {
          "transient": {
            "deleting": false
          }
        }
      }
    },
    {
      "cell_type": "code",
      "source": [
        "import pandas as pd \n",
        "df = pd.read_csv(\"data/diabetes.csv\", index_col = 0)\n",
        "df.head()"
      ],
      "outputs": [
        {
          "output_type": "execute_result",
          "execution_count": 12,
          "data": {
            "text/plain": "           Pregnancies  PlasmaGlucose  DiastolicBloodPressure  \\\nPatientID                                                       \n1354778              0            171                      80   \n1147438              8             92                      93   \n1640031              7            115                      47   \n1883350              9            103                      78   \n1424119              1             85                      59   \n\n           TricepsThickness  SerumInsulin        BMI  DiabetesPedigree  Age  \\\nPatientID                                                                     \n1354778                  34            23  43.509726          1.213191   21   \n1147438                  47            36  21.240576          0.158365   23   \n1640031                  52            35  41.511523          0.079019   23   \n1883350                  25           304  29.582192          1.282870   43   \n1424119                  27            35  42.604536          0.549542   22   \n\n           Diabetic  \nPatientID            \n1354778           0  \n1147438           0  \n1640031           0  \n1883350           1  \n1424119           0  ",
            "text/html": "<div>\n<style scoped>\n    .dataframe tbody tr th:only-of-type {\n        vertical-align: middle;\n    }\n\n    .dataframe tbody tr th {\n        vertical-align: top;\n    }\n\n    .dataframe thead th {\n        text-align: right;\n    }\n</style>\n<table border=\"1\" class=\"dataframe\">\n  <thead>\n    <tr style=\"text-align: right;\">\n      <th></th>\n      <th>Pregnancies</th>\n      <th>PlasmaGlucose</th>\n      <th>DiastolicBloodPressure</th>\n      <th>TricepsThickness</th>\n      <th>SerumInsulin</th>\n      <th>BMI</th>\n      <th>DiabetesPedigree</th>\n      <th>Age</th>\n      <th>Diabetic</th>\n    </tr>\n    <tr>\n      <th>PatientID</th>\n      <th></th>\n      <th></th>\n      <th></th>\n      <th></th>\n      <th></th>\n      <th></th>\n      <th></th>\n      <th></th>\n      <th></th>\n    </tr>\n  </thead>\n  <tbody>\n    <tr>\n      <th>1354778</th>\n      <td>0</td>\n      <td>171</td>\n      <td>80</td>\n      <td>34</td>\n      <td>23</td>\n      <td>43.509726</td>\n      <td>1.213191</td>\n      <td>21</td>\n      <td>0</td>\n    </tr>\n    <tr>\n      <th>1147438</th>\n      <td>8</td>\n      <td>92</td>\n      <td>93</td>\n      <td>47</td>\n      <td>36</td>\n      <td>21.240576</td>\n      <td>0.158365</td>\n      <td>23</td>\n      <td>0</td>\n    </tr>\n    <tr>\n      <th>1640031</th>\n      <td>7</td>\n      <td>115</td>\n      <td>47</td>\n      <td>52</td>\n      <td>35</td>\n      <td>41.511523</td>\n      <td>0.079019</td>\n      <td>23</td>\n      <td>0</td>\n    </tr>\n    <tr>\n      <th>1883350</th>\n      <td>9</td>\n      <td>103</td>\n      <td>78</td>\n      <td>25</td>\n      <td>304</td>\n      <td>29.582192</td>\n      <td>1.282870</td>\n      <td>43</td>\n      <td>1</td>\n    </tr>\n    <tr>\n      <th>1424119</th>\n      <td>1</td>\n      <td>85</td>\n      <td>59</td>\n      <td>27</td>\n      <td>35</td>\n      <td>42.604536</td>\n      <td>0.549542</td>\n      <td>22</td>\n      <td>0</td>\n    </tr>\n  </tbody>\n</table>\n</div>"
          },
          "metadata": {}
        }
      ],
      "execution_count": 12,
      "metadata": {
        "jupyter": {
          "source_hidden": false,
          "outputs_hidden": false
        },
        "nteract": {
          "transient": {
            "deleting": false
          }
        },
        "gather": {
          "logged": 1669103695676
        }
      }
    },
    {
      "cell_type": "code",
      "source": [
        "df.columns"
      ],
      "outputs": [
        {
          "output_type": "execute_result",
          "execution_count": 13,
          "data": {
            "text/plain": "Index(['Pregnancies', 'PlasmaGlucose', 'DiastolicBloodPressure',\n       'TricepsThickness', 'SerumInsulin', 'BMI', 'DiabetesPedigree', 'Age',\n       'Diabetic'],\n      dtype='object')"
          },
          "metadata": {}
        }
      ],
      "execution_count": 13,
      "metadata": {
        "jupyter": {
          "source_hidden": false,
          "outputs_hidden": false
        },
        "nteract": {
          "transient": {
            "deleting": false
          }
        },
        "gather": {
          "logged": 1669103702982
        }
      }
    },
    {
      "cell_type": "markdown",
      "source": [
        "## Training our first model\n",
        "Training a model is also straight forward! Do note: the example below is not about how to build good models. Rather we are going to expand on this example to highlight some features of Azure Machine Learning Studio."
      ],
      "metadata": {
        "nteract": {
          "transient": {
            "deleting": false
          }
        }
      }
    },
    {
      "cell_type": "code",
      "source": [
        "import pandas as pd\n",
        "from sklearn.model_selection import train_test_split\n",
        "from sklearn.linear_model import LogisticRegression\n",
        "from sklearn.metrics import roc_auc_score\n",
        "\n",
        "# load data set\n",
        "print(\"Loading Data...\")\n",
        "df = pd.read_csv('data/diabetes.csv')\n",
        "\n",
        "# Separate features and labels, selecting only some featyres\n",
        "X, y = df[['Pregnancies','PlasmaGlucose','DiastolicBloodPressure','TricepsThickness','SerumInsulin','BMI','DiabetesPedigree','Age']].values, df['Diabetic'].values\n",
        "\n",
        "# Split data into training set and test set\n",
        "X_train, X_test, y_train, y_test = train_test_split(X, y, test_size=0.30, random_state=0)\n",
        "\n",
        "# Set regularization hyperparameter\n",
        "reg = 0.1\n",
        "\n",
        "# Train a logistic regression model\n",
        "print('Training a logistic regression model with regularization rate of', reg)\n",
        "model = LogisticRegression(C=1/reg, solver=\"liblinear\").fit(X_train, y_train)\n",
        "\n",
        "# calculate AUC\n",
        "y_scores = model.predict_proba(X_test)\n",
        "auc = roc_auc_score(y_test,y_scores[:,1])\n",
        "print('AUC: ' + str(auc))\n"
      ],
      "outputs": [
        {
          "output_type": "stream",
          "name": "stdout",
          "text": "Loading Data...\nTraining a logistic regression model with regularization rate of 0.1\nAUC: 0.8484357430717946\n"
        }
      ],
      "execution_count": 17,
      "metadata": {
        "jupyter": {
          "source_hidden": false,
          "outputs_hidden": false
        },
        "nteract": {
          "transient": {
            "deleting": false
          }
        },
        "gather": {
          "logged": 1669103771400
        }
      }
    },
    {
      "cell_type": "code",
      "source": [],
      "outputs": [],
      "execution_count": null,
      "metadata": {
        "jupyter": {
          "source_hidden": false,
          "outputs_hidden": false
        },
        "nteract": {
          "transient": {
            "deleting": false
          }
        }
      }
    },
    {
      "cell_type": "markdown",
      "source": [
        "## Keeping track of things\n",
        "You are perhaps already familiar with versioning your code using Git, Azure Machine Learning Studio offers integration with Git and we will not cover it here. (If you are curious, can you spot top right how to launch a terminal attached to your compute? From the terminal you can access Git). Next to versioning your code, you can also version your data and your model output. Tracking code, datasets and model version is part of the MLOps workflow of making results reproducible. \n",
        "\n",
        "Machine Learning Studio lets you version your datasets and model output straight out of the box. Lets adjust our code example above to do this tracking.\n",
        "We will:\n",
        "\n",
        "- Add our dataset from local file storage to a datastore attached to our Machine Learning Studio instance\n",
        "- Show how to read our dataset from this central data store\n",
        "- Show how we can register our datasets in our data store\n",
        "- Show how we can register our model object\n",
        "\n",
        "First: keeping tracking of our data"
      ],
      "metadata": {
        "nteract": {
          "transient": {
            "deleting": false
          }
        }
      }
    },
    {
      "cell_type": "code",
      "source": [
        "import pandas as pd\n",
        "from sklearn.model_selection import train_test_split\n",
        "from sklearn.linear_model import LogisticRegression\n",
        "from sklearn.metrics import roc_auc_score\n",
        "\n",
        "from azureml.core import Dataset,Workspace\n",
        "from azureml.data.datapath import DataPath\n",
        "\n",
        "# Get the default datastore\n",
        "ws = Workspace.from_config()\n",
        "default_ds = ws.get_default_datastore()\n",
        "\n",
        "# This will upload all content from the folder data into the folder diabetes-data in our default data store\n",
        "Dataset.File.upload_directory(src_dir='data',\n",
        "                              target=DataPath(default_ds, 'diabetes-data/')\n",
        "                              )\n",
        "\n",
        "# Create a tabular dataset from the path on the datastore (this may take a short while)\n",
        "tab_data_set = Dataset.Tabular.from_delimited_files(path=(default_ds, 'diabetes-data/diabetes.csv'))\n",
        "\n",
        "\n",
        "# Register a data set\n",
        "try:\n",
        "    tab_data_set = tab_data_set.register(workspace=ws, \n",
        "                                        name='diabetes dataset',\n",
        "                                        description='diabetes data',\n",
        "                                        tags = {'format':'CSV'},\n",
        "                                        create_new_version=True)\n",
        "except Exception as ex:\n",
        "    print(ex)\n",
        "\n",
        "\n",
        "# Lit all available data sets\n",
        "print(\"Datasets:\")\n",
        "for dataset_name in list(ws.datasets.keys()):\n",
        "    dataset = Dataset.get_by_name(ws, dataset_name)\n",
        "    print(\"\\t\", dataset.name, 'version', dataset.version)\n",
        "\n",
        "# Read a specific, registered, data set with optional version argument\n",
        "dataset = Dataset.get_by_name(ws, \"diabetes dataset\", version = 'latest')\n",
        "df = dataset.to_pandas_dataframe()\n",
        "df.head()\n"
      ],
      "outputs": [
        {
          "output_type": "stream",
          "name": "stdout",
          "text": "Validating arguments.\nArguments validated.\nUploading file to diabetes-data/\nUploading an estimated of 3 files\nTarget already exists. Skipping upload for diabetes-data/.amlignore\nTarget already exists. Skipping upload for diabetes-data/.amlignore.amltmp\nTarget already exists. Skipping upload for diabetes-data/diabetes.csv\nUploaded 0 files\nCreating new dataset\nDatasets:\n\t diabetes dataset version 1\n"
        },
        {
          "output_type": "execute_result",
          "execution_count": 25,
          "data": {
            "text/plain": "   PatientID  Pregnancies  PlasmaGlucose  DiastolicBloodPressure  \\\n0    1354778            0            171                      80   \n1    1147438            8             92                      93   \n2    1640031            7            115                      47   \n3    1883350            9            103                      78   \n4    1424119            1             85                      59   \n\n   TricepsThickness  SerumInsulin        BMI  DiabetesPedigree  Age  Diabetic  \n0                34            23  43.509726          1.213191   21         0  \n1                47            36  21.240576          0.158365   23         0  \n2                52            35  41.511523          0.079019   23         0  \n3                25           304  29.582192          1.282870   43         1  \n4                27            35  42.604536          0.549542   22         0  ",
            "text/html": "<div>\n<style scoped>\n    .dataframe tbody tr th:only-of-type {\n        vertical-align: middle;\n    }\n\n    .dataframe tbody tr th {\n        vertical-align: top;\n    }\n\n    .dataframe thead th {\n        text-align: right;\n    }\n</style>\n<table border=\"1\" class=\"dataframe\">\n  <thead>\n    <tr style=\"text-align: right;\">\n      <th></th>\n      <th>PatientID</th>\n      <th>Pregnancies</th>\n      <th>PlasmaGlucose</th>\n      <th>DiastolicBloodPressure</th>\n      <th>TricepsThickness</th>\n      <th>SerumInsulin</th>\n      <th>BMI</th>\n      <th>DiabetesPedigree</th>\n      <th>Age</th>\n      <th>Diabetic</th>\n    </tr>\n  </thead>\n  <tbody>\n    <tr>\n      <th>0</th>\n      <td>1354778</td>\n      <td>0</td>\n      <td>171</td>\n      <td>80</td>\n      <td>34</td>\n      <td>23</td>\n      <td>43.509726</td>\n      <td>1.213191</td>\n      <td>21</td>\n      <td>0</td>\n    </tr>\n    <tr>\n      <th>1</th>\n      <td>1147438</td>\n      <td>8</td>\n      <td>92</td>\n      <td>93</td>\n      <td>47</td>\n      <td>36</td>\n      <td>21.240576</td>\n      <td>0.158365</td>\n      <td>23</td>\n      <td>0</td>\n    </tr>\n    <tr>\n      <th>2</th>\n      <td>1640031</td>\n      <td>7</td>\n      <td>115</td>\n      <td>47</td>\n      <td>52</td>\n      <td>35</td>\n      <td>41.511523</td>\n      <td>0.079019</td>\n      <td>23</td>\n      <td>0</td>\n    </tr>\n    <tr>\n      <th>3</th>\n      <td>1883350</td>\n      <td>9</td>\n      <td>103</td>\n      <td>78</td>\n      <td>25</td>\n      <td>304</td>\n      <td>29.582192</td>\n      <td>1.282870</td>\n      <td>43</td>\n      <td>1</td>\n    </tr>\n    <tr>\n      <th>4</th>\n      <td>1424119</td>\n      <td>1</td>\n      <td>85</td>\n      <td>59</td>\n      <td>27</td>\n      <td>35</td>\n      <td>42.604536</td>\n      <td>0.549542</td>\n      <td>22</td>\n      <td>0</td>\n    </tr>\n  </tbody>\n</table>\n</div>"
          },
          "metadata": {}
        }
      ],
      "execution_count": 25,
      "metadata": {
        "jupyter": {
          "source_hidden": false,
          "outputs_hidden": false
        },
        "nteract": {
          "transient": {
            "deleting": false
          }
        },
        "gather": {
          "logged": 1669111716307
        }
      }
    },
    {
      "cell_type": "markdown",
      "source": [
        "Combining it with building a model and registering our model. Note that we introduce also a new concept here, we create an experiment run to keep track of our experiment (i.e. training job)."
      ],
      "metadata": {
        "nteract": {
          "transient": {
            "deleting": false
          }
        }
      }
    },
    {
      "cell_type": "code",
      "source": [
        "import pandas as pd\n",
        "import numpy as np\n",
        "import os \n",
        "import joblib\n",
        "import sklearn\n",
        "from sklearn.model_selection import train_test_split\n",
        "from sklearn.linear_model import LogisticRegression\n",
        "from sklearn.metrics import roc_auc_score\n",
        "\n",
        "from azureml.core import Dataset, Experiment, Model, Workspace\n",
        "\n",
        "# load data set\n",
        "print(\"Loading Data...\")\n",
        "ws = Workspace.from_config()\n",
        "dataset = Dataset.get_by_name(ws, \"diabetes dataset\", version = 'latest')\n",
        "df = dataset.to_pandas_dataframe()\n",
        "\n",
        "# We need to start our experiment\n",
        "experiment = Experiment(workspace=ws, name=\"diabetes-experiment-frank\")\n",
        "\n",
        "# Start logging data from the experiment, obtaining a reference to the experiment run\n",
        "run = experiment.start_logging()\n",
        "print(\"Starting experiment:\", experiment.name)\n",
        "\n",
        "# Separate features and labels, selecting only some featyres\n",
        "X, y = df[['Pregnancies','PlasmaGlucose','DiastolicBloodPressure','TricepsThickness','SerumInsulin','BMI','DiabetesPedigree','Age']].values, df['Diabetic'].values\n",
        "\n",
        "# Split data into training set and test set\n",
        "X_train, X_test, y_train, y_test = train_test_split(X, y, test_size=0.30, random_state=0)\n",
        "\n",
        "# Set regularization hyperparameter\n",
        "reg = 0.1\n",
        "\n",
        "# Train a logistic regression model\n",
        "print('Training a logistic regression model with regularization rate of', reg)\n",
        "model = LogisticRegression(C=1/reg, solver=\"liblinear\").fit(X_train, y_train)\n",
        "\n",
        "# Calculate AUC\n",
        "y_scores = model.predict_proba(X_test)\n",
        "auc = roc_auc_score(y_test,y_scores[:,1])\n",
        "print('AUC: ' + str(auc))\n",
        "\n",
        "# Let's save the AUC score of this run:\n",
        "run.log('AUC', float(auc))\n",
        "\n",
        "# End the experiment\n",
        "run.complete()\n",
        "\n",
        "# Save the trained model in the outputs folder\n",
        "os.makedirs('outputs', exist_ok=True)\n",
        "joblib.dump(value=model, filename='outputs/diabetes_model.pkl')\n",
        "\n",
        "# Register the model\n",
        "Model.register(workspace=ws, model_path='outputs/diabetes_model.pkl', model_name='diabetes_model',\n",
        "                   tags={'Training context':'Jupyter Notebook'},\n",
        "                   model_framework=Model.Framework.SCIKITLEARN,\n",
        "                   model_framework_version=sklearn.__version__,\n",
        "                   properties={\"AUC\":float(auc)},\n",
        "                   datasets = [('Full data set',dataset)])"
      ],
      "outputs": [
        {
          "output_type": "execute_result",
          "execution_count": 13,
          "data": {
            "text/plain": "Model(workspace=Workspace.create(name='fbutersml', subscription_id='004164f2-1c28-44aa-882e-3dfd3bd634e0', resource_group='fbuters-rg'), name=diabetes_model, id=diabetes_model:3, version=3, tags={'Training context': 'Jupyter Notebook'}, properties={'AUC': '0.8484392258321308'})"
          },
          "metadata": {}
        }
      ],
      "execution_count": 13,
      "metadata": {
        "jupyter": {
          "source_hidden": false,
          "outputs_hidden": false
        },
        "nteract": {
          "transient": {
            "deleting": false
          }
        },
        "gather": {
          "logged": 1669121768528
        }
      }
    },
    {
      "cell_type": "code",
      "source": [
        "# List registered models\n",
        "for model in Model.list(ws):\n",
        "    print(model.name, 'version:', model.version)\n",
        "    for tag_name in model.tags:\n",
        "        tag = model.tags[tag_name]\n",
        "        print ('\\t',tag_name, ':', tag)\n",
        "    for prop_name in model.properties:\n",
        "        prop = model.properties[prop_name]\n",
        "        print ('\\t',prop_name, ':', prop)\n",
        "    print('\\n')"
      ],
      "outputs": [
        {
          "output_type": "stream",
          "name": "stdout",
          "text": "diabetes_model version: 3\n\t Training context : Jupyter Notebook\n\t AUC : 0.8484392258321308\n\n\n"
        }
      ],
      "execution_count": 14,
      "metadata": {
        "jupyter": {
          "source_hidden": false,
          "outputs_hidden": false
        },
        "nteract": {
          "transient": {
            "deleting": false
          }
        },
        "gather": {
          "logged": 1669121770462
        }
      }
    }
  ],
  "metadata": {
    "kernelspec": {
      "name": "python38-azureml",
      "language": "python",
      "display_name": "Python 3.8 - AzureML"
    },
    "language_info": {
      "name": "python",
      "version": "3.8.5",
      "mimetype": "text/x-python",
      "codemirror_mode": {
        "name": "ipython",
        "version": 3
      },
      "pygments_lexer": "ipython3",
      "nbconvert_exporter": "python",
      "file_extension": ".py"
    },
    "kernel_info": {
      "name": "python38-azureml"
    },
    "microsoft": {
      "host": {
        "AzureML": {
          "notebookHasBeenCompleted": true
        }
      }
    },
    "nteract": {
      "version": "nteract-front-end@1.0.0"
    }
  },
  "nbformat": 4,
  "nbformat_minor": 2
}